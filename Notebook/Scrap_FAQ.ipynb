{
 "cells": [
  {
   "cell_type": "code",
   "execution_count": 1,
   "metadata": {},
   "outputs": [],
   "source": [
    "import time\n",
    "import sys\n",
    "import platform\n",
    "import os\n",
    "import pandas as pd\n",
    "import json\n",
    "\n",
    "from selenium import webdriver\n",
    "from selenium.common.exceptions import TimeoutException\n",
    "from selenium.webdriver.chrome.options import Options\n",
    "from selenium.webdriver.common.by import By\n",
    "from selenium.webdriver.support import expected_conditions as EC\n",
    "from selenium.webdriver.support.ui import WebDriverWait\n",
    "\n",
    "\n",
    "driver = None\n",
    "\n",
    "def load_driver(url):\n",
    "    \"\"\" Logging into our own profile \"\"\"\n",
    "\n",
    "    try:\n",
    "        global driver\n",
    "\n",
    "        options = Options()\n",
    "\n",
    "        #  Code to disable notifications pop up of Chrome Browser\n",
    "        options.add_argument(\"--disable-notifications\")\n",
    "        options.add_argument(\"--disable-infobars\")\n",
    "        options.add_argument(\"--mute-audio\")\n",
    "        # options.add_argument(\"headless\")\n",
    "\n",
    "        try:\n",
    "            platform_ = platform.system().lower()\n",
    "            print(platform_)\n",
    "            if platform_ in ['linux', 'darwin']:\n",
    "                print(webdriver.Chrome(executable_path=\"./chromedriver\", options=options))\n",
    "                driver = webdriver.Chrome(executable_path=\"./chromedriver\", options=options)\n",
    "            else:\n",
    "                driver = webdriver.Chrome(executable_path=\"./chromedriver.exe\", options=options)\n",
    "        except:\n",
    "            print(\"Kindly replace the Chrome Web Driver with the latest one from\"\n",
    "                  \"http://chromedriver.chromium.org/downloads\"\n",
    "                  \"\\nYour OS: {}\".format(platform_)\n",
    "                 )\n",
    "            exit()\n",
    "\n",
    "        driver.get(url)\n",
    "        driver.maximize_window()\n",
    "\n",
    "    except Exception as e:\n",
    "        print(\"There's some error in log in.\")\n",
    "        print(sys.exc_info()[0])\n",
    "        print(e)\n",
    "        exit()\n",
    "\n",
    "\n"
   ]
  },
  {
   "cell_type": "code",
   "execution_count": null,
   "metadata": {},
   "outputs": [],
   "source": []
  },
  {
   "cell_type": "code",
   "execution_count": 4,
   "metadata": {},
   "outputs": [],
   "source": [
    "\n",
    "def ml_faq():\n",
    "    global question,answer,url_word,url_attachment\n",
    "    url = \"https://machinelearningmastery.com/faq/\"\n",
    "    load_driver(url)\n",
    "\n",
    "    _preguntas = driver.find_elements_by_xpath(\"(//div[@class='ufaq-faq-category'])[2]/div/div\")\n",
    "    for i in range(len(_preguntas)):\n",
    "        _preguntas = driver.find_elements_by_xpath(\"(//div[@class='ufaq-faq-category'])[2]/div/div\")\n",
    "        #Abrimos la pregunta\n",
    "        _preguntas[i].click()\n",
    "        _title = _preguntas[i].find_element_by_xpath(\".//h4\").text \n",
    "        _description = _preguntas[i].find_element_by_xpath(\".//div/div\").text \n",
    "        \n",
    "        \n",
    "        question.append(_title)\n",
    "        answer.append(_description)\n",
    "        url_word.append(driver.current_url)\n",
    "        url_attachment.append([])\n",
    "        "
   ]
  },
  {
   "cell_type": "code",
   "execution_count": 5,
   "metadata": {},
   "outputs": [
    {
     "name": "stdout",
     "output_type": "stream",
     "text": [
      "darwin\n",
      "<selenium.webdriver.chrome.webdriver.WebDriver (session=\"e985ac7020d91cfd594e4aeb6a3edcfc\")>\n"
     ]
    }
   ],
   "source": [
    "question = []\n",
    "answer = []\n",
    "url_word = []\n",
    "url_attachment = []\n",
    "ml_faq()"
   ]
  },
  {
   "cell_type": "code",
   "execution_count": 6,
   "metadata": {},
   "outputs": [
    {
     "data": {
      "text/plain": [
       "'Do I need special hardware for deep learning?'"
      ]
     },
     "execution_count": 6,
     "metadata": {},
     "output_type": "execute_result"
    }
   ],
   "source": [
    "question[0]\n"
   ]
  },
  {
   "cell_type": "code",
   "execution_count": 7,
   "metadata": {},
   "outputs": [
    {
     "data": {
      "text/plain": [
       "'Generally, you do not need special hardware for developing deep learning models.\\nYou can use a sample of your data to develop and test small models on your workstation with the CPU. You can then develop larger models and run long experiments on server hardware that has GPU support.\\nI write more about this approach in this post:\\nMachine Learning Development Environment\\nFor running experiments with large models or large datasets, I recommend using Amazon EC2 service. It offers GPU support and is very cheap.\\nThis tutorial shows you how to get started with EC2:\\nHow To Develop and Evaluate Large Deep Learning Models with Keras on Amazon Web Services'"
      ]
     },
     "execution_count": 7,
     "metadata": {},
     "output_type": "execute_result"
    }
   ],
   "source": [
    "answer[0]"
   ]
  },
  {
   "cell_type": "code",
   "execution_count": 8,
   "metadata": {},
   "outputs": [],
   "source": [
    "json_total = {}\n",
    "for x in range(len(question)):\n",
    "    json_d = {'question':question[x],'answer':answer[x],'url':url_word[x],'attachment_url':url_attachment[x]}\n",
    "    json_total[x] = json_d\n",
    "    json_total.update(json_d)\n",
    "\n",
    "\n",
    "with open('../datasets/faq_ml.json', 'w') as outfile:\n",
    "    json.dump(json_total, outfile)"
   ]
  },
  {
   "cell_type": "code",
   "execution_count": null,
   "metadata": {},
   "outputs": [],
   "source": []
  }
 ],
 "metadata": {
  "kernelspec": {
   "display_name": "Python 3",
   "language": "python",
   "name": "python3"
  },
  "language_info": {
   "codemirror_mode": {
    "name": "ipython",
    "version": 3
   },
   "file_extension": ".py",
   "mimetype": "text/x-python",
   "name": "python",
   "nbconvert_exporter": "python",
   "pygments_lexer": "ipython3",
   "version": "3.7.1"
  }
 },
 "nbformat": 4,
 "nbformat_minor": 2
}
